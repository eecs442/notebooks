{
  "nbformat": 4,
  "nbformat_minor": 0,
  "metadata": {
    "colab": {
      "name": "Lines and Points with Homogeneous Coordinates",
      "provenance": [],
      "collapsed_sections": []
    },
    "kernelspec": {
      "name": "python3",
      "display_name": "Python 3"
    }
  },
  "cells": [
    {
      "cell_type": "code",
      "metadata": {
        "id": "m2gRmBWeYgsF",
        "colab_type": "code",
        "outputId": "38a86187-b213-4c23-bb21-461d6d548723",
        "colab": {
          "base_uri": "https://localhost:8080/",
          "height": 1000
        }
      },
      "source": [
        "#David Fouhey\n",
        "#Homogeneous coordinates examples\n",
        "#UMich EECS 442 Fall 2019\n",
        "\n",
        "import matplotlib.pyplot as plt\n",
        "import numpy as np\n",
        "\n",
        "#Everything is too small otherwise\n",
        "#https://stackoverflow.com/questions/3899980/how-to-change-the-font-size-on-a-matplotlib-plot\n",
        "SMALL_SIZE = 20; MEDIUM_SIZE = 30; BIGGER_SIZE = 40\n",
        "plt.rc('font', size=SMALL_SIZE)          # controls default text sizes\n",
        "plt.rc('axes', titlesize=SMALL_SIZE)     # fontsize of the axes title\n",
        "plt.rc('axes', labelsize=MEDIUM_SIZE)    # fontsize of the x and y labels\n",
        "plt.rc('xtick', labelsize=SMALL_SIZE)    # fontsize of the tick labels\n",
        "plt.rc('ytick', labelsize=SMALL_SIZE)    # fontsize of the tick labels\n",
        "plt.rc('legend', fontsize=SMALL_SIZE)    # legend fontsize\n",
        "plt.rc('figure', titlesize=BIGGER_SIZE)  # fontsize of the figure title\n",
        "\n",
        "###Helper stuff\n",
        "def draw_line(abc,color='k',ylim=(-5,5),xlim=(-5,5)):\n",
        "  #draw a line in the form abc (i.e., line satisfying ax+by+c = 0)\n",
        "  a,b,c = abc[0], abc[1], abc[2]\n",
        "  #https://stackoverflow.com/questions/14000595/graphing-an-equation-with-matplotlib\n",
        "  #http://courses.csail.mit.edu/6.867/wiki/images/3/3f/Plot-python.pdf\n",
        "  xlist = np.linspace(ylim[0], ylim[1], 500) # Create 1-D arrays for x,y dimensions\n",
        "  ylist = np.linspace(ylim[0], ylim[1], 150) \n",
        "  X,Y = np.meshgrid(xlist, ylist) # Create 2-D grid xlist,ylist values\n",
        "  F = a*X + b*Y + c\n",
        "  plt.contour(X, Y, F, [0], colors = color, linestyles = 'solid', linewidths=[4])\n",
        "  \n",
        "def draw_point(xy,color='k'):\n",
        "  #draw a point at xy\n",
        "  plt.scatter(xy[0],xy[1],500,color=color)\n",
        "\n",
        "def ymxb2abc(mb):\n",
        "  #convert y=mx+b (the world's worst parameterization) to ax+by+c = 0\n",
        "  m,b = mb\n",
        "  return np.array([m,-1,b])\n",
        "\n",
        "def homogeneous2real(uvw):\n",
        "  #convert homogeneous coordinate to real\n",
        "  return uvw[:2] / uvw[2]\n",
        "\n",
        "def real2homogeneous(xy):\n",
        "  #convert real to homogeneous\n",
        "  return np.hstack([xy,np.ones((1,))])\n",
        "\n",
        "def newfig():\n",
        "  plt.figure(figsize=(6,6)) \n",
        "  plt.grid(True,which='both')\n",
        "\n",
        "def showfig():\n",
        "  plt.show()\n",
        "  \n",
        "  \n",
        "def pointOnLine(line,point):\n",
        "  return np.dot(line,point)**2 < 1e-6\n",
        "#####\n",
        "\n",
        "\n",
        "#####\n",
        "if __name__ == \"__main__\":\n",
        "  \n",
        "  \n",
        "  #First intersect y=2 and x=1\n",
        "  print(\"Intersecting y=2 and x=1\\n\\n\")\n",
        "  newfig()\n",
        "  lyeq2 = np.array([0,-1,2]) #y = 2\n",
        "  lxeq1 = np.array([1,0,-1]) #x = 1\n",
        "  px1y2 = np.cross(lxeq1,lyeq2)\n",
        "  \n",
        "  print(\"Intersection is (homogeneous) %s\" % px1y2)\n",
        "  px1y2_real = homogeneous2real(px1y2)\n",
        "  print(\"Intersection is (real) %s\" % px1y2_real)\n",
        " \n",
        "\n",
        "  draw_line(lyeq2,color='r')\n",
        "  draw_line(lxeq1,color='b')\n",
        "  draw_point(px1y2_real,color='k')\n",
        "  showfig()\n",
        "\n",
        "  \n",
        "\n",
        "  #####\n",
        "  #Next, construct the line between [0,0] and [1,1]  (line y=x)\n",
        "  #and find the intersection of that and y=2 (line y=2)\n",
        "  print(\"\\n\\n\\n\\nIntersecting y=2 and line between (0,0) and (1,1)\\n\\n\")\n",
        "  newfig()\n",
        "  pZeroZero = real2homogeneous(np.array([0,0]))\n",
        "  pOneOne = real2homogeneous(np.array([1,1]))\n",
        "  lyeqx = np.cross(pZeroZero,pOneOne)\n",
        "\n",
        "  draw_line(lyeq2,color='r')\n",
        "  draw_line(lyeqx,color='b')\n",
        "  draw_line(lxeq1,color='y')\n",
        "  isect = np.cross(lyeq2,lyeqx)\n",
        "  isect_real = homogeneous2real(isect)\n",
        "  draw_point(isect_real,color='k')\n",
        "  ######\n",
        "  #Next, check if isect(line(y=2),line(y=x)) lies on line(y=2) and on line(x=1)\n",
        "  print(\"line(y=2)^T p = %5.1f (should be 0)\" % (np.dot(lyeq2,isect)))\n",
        "  print(\"p is on line(y=2): %s (should be True)\" % (pointOnLine(lyeq2,isect)))\n",
        "  print(\"p^T line(x=1) = %5.1f (should not be 0)\" % (np.dot(lxeq1,isect)))\n",
        "  print(\"p is on line(x=1): %s (should be False)\" % (pointOnLine(lxeq1,isect)))\n",
        "  showfig()\n",
        "\n",
        "  \n",
        "\n",
        "  #####\n",
        "  #compute intersection of parallel lines (y=1, y=2, y=3) and see if \n",
        "  print(\"\\n\\n\\n\\nIntersecting y={1,2,3} and seeing it it intersects y=x\\n\\n\")\n",
        "  lyeq1 = np.array([0,1,-1])\n",
        "  lyeq2 = np.array([0,1,-2])\n",
        "  lyeq3 = np.array([0,1,-3])\n",
        "  lyeqx = np.array([-1,1,0])\n",
        "\n",
        "  newfig()\n",
        "  draw_line(lyeq1,color='r')\n",
        "  draw_line(lyeq2,color='r')\n",
        "  draw_line(lyeq3,color='r')\n",
        "  draw_line(lyeqx,color='b')\n",
        "\n",
        "  isecty1 = np.cross(lyeq1,lyeq2)\n",
        "\n",
        "  print(\"Intersection of y=1 and y=2 -> %s\" % isecty1)\n",
        "  print(\"dot(cross(line(y=1),line(y=2)),line(y=3)) = %d\" % np.dot(isecty1,lyeq3))\n",
        "  print(\"    y=1 , y=2 , y=3  intersect: %s\" % pointOnLine(isecty1,lyeq3))\n",
        "  print(\"dot(cross(line(y=1),line(y=3)),line(y=x)) = %d\" % np.dot(isecty1,lyeqx))\n",
        "  print(\"    y=1 , y=2 , y=x  intersect: %s\" % pointOnLine(isecty1,lyeqx))\n",
        "\n",
        "  showfig()\n"
      ],
      "execution_count": 0,
      "outputs": [
        {
          "output_type": "stream",
          "text": [
            "Intersecting y=2 and x=1\n",
            "\n",
            "\n",
            "Intersection is (homogeneous) [-1 -2 -1]\n",
            "Intersection is (real) [1. 2.]\n"
          ],
          "name": "stdout"
        },
        {
          "output_type": "display_data",
          "data": {
            "image/png": "[encoded data removed]",
            "text/plain": [
              "<Figure size 432x432 with 1 Axes>"
            ]
          },
          "metadata": {
            "tags": []
          }
        },
        {
          "output_type": "stream",
          "text": [
            "\n",
            "\n",
            "\n",
            "\n",
            "Intersecting y=2 and line between (0,0) and (1,1)\n",
            "\n",
            "\n",
            "line(y=2)^T p =   0.0 (should be 0)\n",
            "p is on line(y=2): True (should be True)\n",
            "p^T line(x=1) =  -1.0 (should not be 0)\n",
            "p is on line(x=1): False (should be False)\n"
          ],
          "name": "stdout"
        },
        {
          "output_type": "display_data",
          "data": {
            "image/png": "[encoded data removed]",
            "text/plain": [
              "<Figure size 432x432 with 1 Axes>"
            ]
          },
          "metadata": {
            "tags": []
          }
        },
        {
          "output_type": "stream",
          "text": [
            "\n",
            "\n",
            "\n",
            "\n",
            "Intersecting y={1,2,3} and seeing it it intersects y=x\n",
            "\n",
            "\n",
            "Intersection of y=1 and y=2 -> [-1  0  0]\n",
            "dot(cross(line(y=1),line(y=2)),line(y=3)) = 0\n",
            "    y=1 , y=2 , y=3  intersect: True\n",
            "dot(cross(line(y=1),line(y=3)),line(y=x)) = 1\n",
            "    y=1 , y=2 , y=x  intersect: False\n"
          ],
          "name": "stdout"
        },
        {
          "output_type": "display_data",
          "data": {
            "image/png": "[encoded data removed]",
            "text/plain": [
              "<Figure size 432x432 with 1 Axes>"
            ]
          },
          "metadata": {
            "tags": []
          }
        }
      ]
    }
  ]
}