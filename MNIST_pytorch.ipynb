{
  "nbformat": 4,
  "nbformat_minor": 0,
  "metadata": {
    "colab": {
      "name": "MNIST_pytorch.ipynb",
      "provenance": [],
      "collapsed_sections": []
    },
    "kernelspec": {
      "name": "python3",
      "display_name": "Python 3"
    },
    "accelerator": "GPU"
  },
  "cells": [
    {
      "cell_type": "markdown",
      "metadata": {
        "id": "GtiQjkq8PnI6",
        "colab_type": "text"
      },
      "source": [
        "# Handwritten Digit Classification \n",
        "\n",
        "\n",
        "**Today:**\n",
        "\n",
        "- Train a Neural Network on MNIST.\n",
        "- Understand PyTorch models.\n",
        "- Understand data loaders and datasets in PyTorch\n",
        "- Understand training data, validation data, test data\n",
        "- Plot learning curves\n",
        "- Track progress\n",
        "- Error analysis\n",
        "\n",
        "\n",
        "### Acknowledgement\n",
        "- This notebook was created by the EECS 442 W19 staff, and is based on a notebook created by [Kevin McGuinness](http://www.eeng.dcu.ie/~mcguinne/)."
      ]
    },
    {
      "cell_type": "code",
      "metadata": {
        "id": "p2mwWav-iMPh",
        "colab_type": "code",
        "outputId": "fe44674a-85f6-40e3-bdd8-de576f78506c",
        "colab": {
          "base_uri": "https://localhost:8080/",
          "height": 51
        }
      },
      "source": [
        "import sys\n",
        "print(sys.version)"
      ],
      "execution_count": 0,
      "outputs": [
        {
          "output_type": "stream",
          "text": [
            "3.6.8 (default, Oct  7 2019, 12:59:55) \n",
            "[GCC 8.3.0]\n"
          ],
          "name": "stdout"
        }
      ]
    },
    {
      "cell_type": "markdown",
      "metadata": {
        "id": "VdLn57KDkGHO",
        "colab_type": "text"
      },
      "source": [
        "# Install PyTorch \n",
        "\n",
        "Google colab doesn't have PyTorch installed by default, but it can be easily installed using the Python package manager *pip*. \n",
        "\n",
        "This will take a minute to install."
      ]
    },
    {
      "cell_type": "code",
      "metadata": {
        "id": "XiHYo3hEhwdk",
        "colab_type": "code",
        "outputId": "43f12f9a-d308-48b0-85be-e2ce1b5dfc6e",
        "colab": {
          "base_uri": "https://localhost:8080/",
          "height": 144
        }
      },
      "source": [
        "!pip3 install torch torchvision"
      ],
      "execution_count": 0,
      "outputs": [
        {
          "output_type": "stream",
          "text": [
            "Requirement already satisfied: torch in /usr/local/lib/python3.6/dist-packages (1.3.0+cu100)\n",
            "Requirement already satisfied: torchvision in /usr/local/lib/python3.6/dist-packages (0.4.1+cu100)\n",
            "Requirement already satisfied: numpy in /usr/local/lib/python3.6/dist-packages (from torch) (1.17.3)\n",
            "Requirement already satisfied: six in /usr/local/lib/python3.6/dist-packages (from torchvision) (1.12.0)\n",
            "Requirement already satisfied: pillow>=4.1.1 in /usr/local/lib/python3.6/dist-packages (from torchvision) (4.3.0)\n",
            "Requirement already satisfied: olefile in /usr/local/lib/python3.6/dist-packages (from pillow>=4.1.1->torchvision) (0.46)\n"
          ],
          "name": "stdout"
        }
      ]
    },
    {
      "cell_type": "markdown",
      "metadata": {
        "id": "Ywspo1LiklkS",
        "colab_type": "text"
      },
      "source": [
        "# Import packages\n",
        "\n",
        "Find the PyTorch docs at https://pytorch.org/docs/stable/index.html \n",
        "\n",
        "Tutorials: https://pytorch.org/tutorials/"
      ]
    },
    {
      "cell_type": "code",
      "metadata": {
        "id": "V8TdKha5hoCs",
        "colab_type": "code",
        "colab": {}
      },
      "source": [
        "import numpy as np\n",
        "\n",
        "import torch\n",
        "import torch.nn.functional as F\n",
        "import torch.nn as nn\n",
        "import torch.optim as optim\n",
        "\n",
        "import torchvision.transforms as transforms\n",
        "from torchvision.datasets import MNIST\n",
        "\n",
        "from torch.utils.data import DataLoader\n",
        "\n",
        "import matplotlib.pyplot as plt\n"
      ],
      "execution_count": 0,
      "outputs": []
    },
    {
      "cell_type": "code",
      "metadata": {
        "id": "3rmqhdjOXc96",
        "colab_type": "code",
        "outputId": "cb78ab47-7148-46b8-ef72-49230b371583",
        "colab": {
          "base_uri": "https://localhost:8080/",
          "height": 34
        }
      },
      "source": [
        "print('PyTorch version:', torch.__version__)"
      ],
      "execution_count": 0,
      "outputs": [
        {
          "output_type": "stream",
          "text": [
            "PyTorch version: 1.3.0+cu100\n"
          ],
          "name": "stdout"
        }
      ]
    },
    {
      "cell_type": "code",
      "metadata": {
        "id": "9bexQC8PaL9w",
        "colab_type": "code",
        "colab": {}
      },
      "source": [
        "# Set random seed for reproducability\n",
        "#torch.manual_seed(271828)\n",
        "#np.random.seed(271728)\n",
        "torch.manual_seed(442)\n",
        "np.random.seed(442)"
      ],
      "execution_count": 0,
      "outputs": []
    },
    {
      "cell_type": "markdown",
      "metadata": {
        "id": "-MGvs0jJ0JgA",
        "colab_type": "text"
      },
      "source": [
        "# Enable GPU acceleration\n",
        "\n",
        "Open to the Edit menu and select *Notebook settings* and then select *GPU* under hardware accelerator."
      ]
    },
    {
      "cell_type": "code",
      "metadata": {
        "id": "eiSDmqiA2es2",
        "colab_type": "code",
        "outputId": "75331386-1f68-4546-cb62-76b0cd47f5b7",
        "colab": {
          "base_uri": "https://localhost:8080/",
          "height": 34
        }
      },
      "source": [
        "# enable GPU acceleration if GPU resource is available\n",
        "# GPU: device = 'cuda'\n",
        "# CPU: device = 'cpu'\n",
        "import torch\n",
        "device = torch.device('cuda' if torch.cuda.is_available() else 'cpu')\n",
        "print(device)"
      ],
      "execution_count": 0,
      "outputs": [
        {
          "output_type": "stream",
          "text": [
            "cuda\n"
          ],
          "name": "stdout"
        }
      ]
    },
    {
      "cell_type": "markdown",
      "metadata": {
        "id": "mTq9KUW_7dct",
        "colab_type": "text"
      },
      "source": [
        "# Specify a model architecture"
      ]
    },
    {
      "cell_type": "code",
      "metadata": {
        "id": "KAaUNorqjKO_",
        "colab_type": "code",
        "colab": {}
      },
      "source": [
        "class SimpleNN(nn.Module):\n",
        "    \"\"\"\n",
        "    Define a Fully Connected Network.\n",
        "    \"\"\"\n",
        "    \n",
        "    def __init__(self, num_classes=10, hidden_layer=False):\n",
        "        super(SimpleNN, self).__init__()\n",
        "        self.hidden_layer = hidden_layer\n",
        "        if hidden_layer:\n",
        "          # self.fc1= nn.Linear(28*28, 128)\n",
        "          # self.fc2 = nn.Linear(128, num_classes)\n",
        "          self.fc = nn.Sequential([nn.Linear(28**2, 128),\n",
        "                                    nn                                   \n",
        "\n",
        "\n",
        "          ])\n",
        "        else:\n",
        "          self.fc1= nn.Linear(28*28, num_classes)\n",
        "\n",
        "\n",
        "          \n",
        "    def forward(self, x):\n",
        "        x = x.reshape(-1, 28*28)\n",
        "        if self.hidden_layer:\n",
        "          x = F.relu(self.fc1(x))\n",
        "          x = self.fc2(x)\n",
        "          return x  # logits\n",
        "        else:\n",
        "          return self.fc1(X)   \n",
        "          "
      ],
      "execution_count": 0,
      "outputs": []
    },
    {
      "cell_type": "markdown",
      "metadata": {
        "id": "UrynDn0t7rLY",
        "colab_type": "text"
      },
      "source": [
        "# Load the datasets\n",
        "\n",
        "We also need to specify a **transform** here to convert images to torch tensors.\n",
        "\n",
        "I'm adding a **normalization** transform here too so that the images have mean zero and unit variance. This is optional. For some problems (models/datasets) proper normalization is important for performance. For others (e.g. models with batch normalization early on), the importance of normalization is less.\n",
        "\n",
        "PyTorch comes with a built-in dataset class for the MNIST digit classification task in the (optional) ``torchvision`` package. It also has built-in for other common datasets and tasks like CIFAR-10 and ImageNet. See: https://pytorch.org/docs/stable/torchvision/datasets.html\n"
      ]
    },
    {
      "cell_type": "code",
      "metadata": {
        "id": "oe6InO7QnZca",
        "colab_type": "code",
        "colab": {}
      },
      "source": [
        "\n",
        "# transform for the training data\n",
        "train_transform = transforms.Compose([\n",
        "    transforms.ToTensor(),\n",
        "    transforms.Normalize([0.1307], [0.3081])\n",
        "])\n",
        "\n",
        "# use the same transform for the validation data\n",
        "valid_transform = train_transform\n",
        "\n",
        "# load datasets, downloading if needed\n",
        "train_set = MNIST('./data/mnist', train=True, download=True, \n",
        "                  transform=train_transform)\n",
        "valid_set = MNIST('./data/mnist', train=False, download=True, \n",
        "                  transform=valid_transform)"
      ],
      "execution_count": 0,
      "outputs": []
    },
    {
      "cell_type": "code",
      "metadata": {
        "id": "6Sl9tT_Jnym0",
        "colab_type": "code",
        "outputId": "d8f2fa21-8959-453c-db97-267bd9df0d05",
        "colab": {
          "base_uri": "https://localhost:8080/",
          "height": 142
        }
      },
      "source": [
        "print(train_set.train_data.shape)\n",
        "print(valid_set.test_data.shape)"
      ],
      "execution_count": 0,
      "outputs": [
        {
          "output_type": "stream",
          "text": [
            "torch.Size([60000, 28, 28])\n",
            "torch.Size([10000, 28, 28])\n"
          ],
          "name": "stdout"
        },
        {
          "output_type": "stream",
          "text": [
            "/usr/local/lib/python3.6/dist-packages/torchvision/datasets/mnist.py:53: UserWarning: train_data has been renamed data\n",
            "  warnings.warn(\"train_data has been renamed data\")\n",
            "/usr/local/lib/python3.6/dist-packages/torchvision/datasets/mnist.py:58: UserWarning: test_data has been renamed data\n",
            "  warnings.warn(\"test_data has been renamed data\")\n"
          ],
          "name": "stderr"
        }
      ]
    },
    {
      "cell_type": "markdown",
      "metadata": {
        "id": "G3zD2yzfU3dC",
        "colab_type": "text"
      },
      "source": [
        "## Some notes about the training data\n",
        "\n",
        "There are two subsets of the data being used here:\n",
        "\n",
        "- **Training data** Data that is used to optimize model parameters\n",
        "- **Validation data** Data that is used for model selection (choosing hyperparameters).\n",
        "\n",
        "The data that we test on during training to monitor progress is validation data, since it can be used to tune the model architecture (number of layers, etc) and other hyperparameters.\n",
        "\n",
        "Usually, we would keep another separate **test set** for testing the final model in order to get an unbiased estimate of *out of sample* accuracy. Unfortunately, MNIST doesn't have a separate test set and it is common practice on this task to use the validation set both for validation and test. \n",
        "\n",
        "**Warning**: This is considered BAD PRACTICE in most situations!\n"
      ]
    },
    {
      "cell_type": "markdown",
      "metadata": {
        "id": "9NDg-mJ23kg5",
        "colab_type": "text"
      },
      "source": [
        "# Preview the data\n",
        "\n",
        "Let's look at a sample of the training data. \n",
        "\n",
        "Here I'm using some indexing tricks (reshaping and permuting axes) to put the first 64 digits in the dataset into a grid."
      ]
    },
    {
      "cell_type": "code",
      "metadata": {
        "id": "x0uIuozf57GB",
        "colab_type": "code",
        "outputId": "80c11fc3-0bdc-4cf3-c29d-565d4ab3ff44",
        "colab": {
          "base_uri": "https://localhost:8080/",
          "height": 716
        }
      },
      "source": [
        "plt.figure(figsize=(10,10))\n",
        "\n",
        "sample = train_set.train_data[:64]\n",
        "# shape (64, 28, 28)\n",
        "sample = sample.reshape(8,8,28,28)\n",
        "# shape (8, 8, 28, 28)\n",
        "sample = sample.permute(0,2,1,3)\n",
        "# shape (8, 28, 8, 28)\n",
        "sample = sample.reshape(8*28,8*28)\n",
        "# shape (8*28, 8*28)\n",
        "plt.imshow(sample)\n",
        "plt.xticks([])\n",
        "plt.yticks([])\n",
        "plt.grid(False)\n",
        "plt.title('First 64 MNIST digits in training set')\n",
        "plt.show()\n",
        "\n",
        "print('Labels:', train_set.train_labels[:64].numpy())"
      ],
      "execution_count": 0,
      "outputs": [
        {
          "output_type": "stream",
          "text": [
            "/usr/local/lib/python3.6/dist-packages/torchvision/datasets/mnist.py:53: UserWarning: train_data has been renamed data\n",
            "  warnings.warn(\"train_data has been renamed data\")\n"
          ],
          "name": "stderr"
        },
        {
          "output_type": "display_data",
          "data": {
            "image/png": "[encoded data removed]",
            "text/plain": [
              "<Figure size 720x720 with 1 Axes>"
            ]
          },
          "metadata": {
            "tags": []
          }
        },
        {
          "output_type": "stream",
          "text": [
            "Labels: [5 0 4 1 9 2 1 3 1 4 3 5 3 6 1 7 2 8 6 9 4 0 9 1 1 2 4 3 2 7 3 8 6 9 0 5 6\n",
            " 0 7 6 1 8 7 9 3 9 8 5 9 3 3 0 7 4 9 8 0 9 4 1 4 4 6 0]\n"
          ],
          "name": "stdout"
        },
        {
          "output_type": "stream",
          "text": [
            "/usr/local/lib/python3.6/dist-packages/torchvision/datasets/mnist.py:43: UserWarning: train_labels has been renamed targets\n",
            "  warnings.warn(\"train_labels has been renamed targets\")\n"
          ],
          "name": "stderr"
        }
      ]
    },
    {
      "cell_type": "markdown",
      "metadata": {
        "id": "IdExkrRS43Fo",
        "colab_type": "text"
      },
      "source": [
        "# Setup the data loaders\n",
        "\n",
        "PyTorch provides a [DataLoader](https://pytorch.org/docs/stable/data.html#torch.utils.data.DataLoader) class in `torch.utils.data` that can be used to manage loading data from datasets using multiple worker threads and packaging data into datasets. It also provides data **shuffling** and **sampling** strategies.\n",
        "\n",
        "Having multiple threads to load the data improve the performance when training larger models on large datasets since the CPU threads can be busy loading and transforming data while the GPU is doing forward and backward propagation.\n",
        "\n",
        "\n",
        "**Note**: The `Dataset` and `DataLoader` classes are not mandatory in PyTorch; you can write your own data loading mechanisms. "
      ]
    },
    {
      "cell_type": "code",
      "metadata": {
        "id": "PIftYkluoDbF",
        "colab_type": "code",
        "colab": {}
      },
      "source": [
        "train_loader = DataLoader(train_set, batch_size=256, num_workers=0, shuffle=True)\n",
        "valid_loader = DataLoader(valid_set, batch_size=512, num_workers=0, shuffle=False)"
      ],
      "execution_count": 0,
      "outputs": []
    },
    {
      "cell_type": "markdown",
      "metadata": {
        "id": "ZvoPaJvs7Eem",
        "colab_type": "text"
      },
      "source": [
        "# Add some utilities \n",
        "\n",
        "Usually when training a deep learning model, you want to keep track of the loss. However, the **loss on individual batches is quite noisy**, so I usually use an **exponentially decayed moving average** to smooth out individual fluctuations in each batch and make general trends more easy to see. \n",
        "\n",
        "At validation time you usually want to find the average loss over the full dataset, so a running average (cumulative moving average) is more appropriate.\n",
        "\n",
        "Here we define two classes to take care of this."
      ]
    },
    {
      "cell_type": "code",
      "metadata": {
        "id": "hwXFvW9jv9Rg",
        "colab_type": "code",
        "colab": {}
      },
      "source": [
        "class AverageBase(object):\n",
        "    \n",
        "    def __init__(self, value=0):\n",
        "        self.value = float(value) if value is not None else None\n",
        "       \n",
        "    def __str__(self):\n",
        "        return str(round(self.value, 4))\n",
        "    \n",
        "    def __repr__(self):\n",
        "        return self.value\n",
        "    \n",
        "    def __format__(self, fmt):\n",
        "        return self.value.__format__(fmt)\n",
        "    \n",
        "    def __float__(self):\n",
        "        return self.value\n",
        "    \n",
        "\n",
        "class RunningAverage(AverageBase):\n",
        "    \"\"\"\n",
        "    Keeps track of a cumulative moving average (CMA).\n",
        "    \"\"\"\n",
        "    \n",
        "    def __init__(self, value=0, count=0):\n",
        "        super(RunningAverage, self).__init__(value)\n",
        "        self.count = count\n",
        "        \n",
        "    def update(self, value):\n",
        "        self.value = (self.value * self.count + float(value))\n",
        "        self.count += 1\n",
        "        self.value /= self.count\n",
        "        return self.value\n",
        "\n",
        "\n",
        "class MovingAverage(AverageBase):\n",
        "    \"\"\"\n",
        "    An exponentially decaying moving average (EMA).\n",
        "    \"\"\"\n",
        "    \n",
        "    def __init__(self, alpha=0.99):\n",
        "        super(MovingAverage, self).__init__(None)\n",
        "        self.alpha = alpha\n",
        "        \n",
        "    def update(self, value):\n",
        "        if self.value is None:\n",
        "            self.value = float(value)\n",
        "        else:\n",
        "            self.value = self.alpha * self.value + (1 - self.alpha) * float(value)\n",
        "        return self.value"
      ],
      "execution_count": 0,
      "outputs": []
    },
    {
      "cell_type": "markdown",
      "metadata": {
        "id": "NQgIwI5WC-07",
        "colab_type": "text"
      },
      "source": [
        "## Progress monitor\n",
        "\n",
        "I usually use [tqdm](https://github.com/tqdm/tqdm) for monitoring progress on the console and in Jupyter notebooks. But unfortunately, it doesn't work very well with Collab at the moment, so here we create a custom progress monitor class that uses the HTML and [display facilities of IPython](https://ipython.org/ipython-doc/3/api/generated/IPython.display.html) to show a progress bar."
      ]
    },
    {
      "cell_type": "code",
      "metadata": {
        "id": "NgHelJZpqWwQ",
        "colab_type": "code",
        "colab": {}
      },
      "source": [
        "from IPython.display import HTML, display\n",
        "\n",
        "class ProgressMonitor(object):\n",
        "    \"\"\"\n",
        "    Custom IPython progress bar for training\n",
        "    \"\"\"\n",
        "    \n",
        "    tmpl = \"\"\"\n",
        "        <p>Loss: {loss:0.4f}   {value} / {length}</p>\n",
        "        <progress value='{value}' max='{length}', style='width: 100%'>{value}</progress>\n",
        "    \"\"\"\n",
        "\n",
        "    def __init__(self, length):\n",
        "        self.length = length\n",
        "        self.count = 0\n",
        "        self.display = display(self.html(0, 0), display_id=True)\n",
        "        \n",
        "    def html(self, count, loss):\n",
        "        return HTML(self.tmpl.format(length=self.length, value=count, loss=loss))\n",
        "        \n",
        "    def update(self, count, loss):\n",
        "        self.count += count\n",
        "        self.display.update(self.html(self.count, loss))"
      ],
      "execution_count": 0,
      "outputs": []
    },
    {
      "cell_type": "markdown",
      "metadata": {
        "id": "fZlNXgHG6q-g",
        "colab_type": "text"
      },
      "source": [
        "# Instantiate the model\n",
        "\n",
        "Create an instance of the model and move it (memory and operations) to the CUDA device."
      ]
    },
    {
      "cell_type": "code",
      "metadata": {
        "id": "eU_kiKpypYu0",
        "colab_type": "code",
        "outputId": "b03e5a3f-dbc7-40a1-b3e4-a0030b47192d",
        "colab": {
          "base_uri": "https://localhost:8080/",
          "height": 68
        }
      },
      "source": [
        "model = SimpleNN()\n",
        "model.to(device)"
      ],
      "execution_count": 0,
      "outputs": [
        {
          "output_type": "execute_result",
          "data": {
            "text/plain": [
              "SimpleNN(\n",
              "  (fc1): Linear(in_features=784, out_features=10, bias=True)\n",
              ")"
            ]
          },
          "metadata": {
            "tags": []
          },
          "execution_count": 17
        }
      ]
    },
    {
      "cell_type": "markdown",
      "metadata": {
        "id": "vPrYMlDSEljV",
        "colab_type": "text"
      },
      "source": [
        "# Train the model\n",
        "\n",
        "We're now ready to train!\n",
        "\n",
        "- First create a loss function (called `criterion` below) that will be used during optimization.\n",
        "- Then create an optimizer. Here we just use simple stochastic gradient descent with nesterov momentum. More advanced first order optimizers are also available like [Adam](https://arxiv.org/abs/1412.6980). See the [torch.optim](https://pytorch.org/docs/stable/optim.html) package for more details.\n",
        "- Finally, code up the train loop. \n",
        "\n",
        "Each pass through the training loop is called an epoch (an epoch is when every training example has been seen once). \n",
        "\n",
        "There are two parts to the loop:\n",
        "- **Train phase**: where batches of data are loaded from the training set and the model parameters are optimized using backpropagation to compute gradients.\n",
        "- **Validation phase**: where batches of data are loaded from the validation set and out of sample error is estimated using this data."
      ]
    },
    {
      "cell_type": "code",
      "metadata": {
        "id": "5mtSrf6XpvJv",
        "colab_type": "code",
        "colab": {}
      },
      "source": [
        "optimizer = optim.SGD(model.parameters(), lr=0.01, momentum=0.9, nesterov=True)"
      ],
      "execution_count": 0,
      "outputs": []
    },
    {
      "cell_type": "code",
      "metadata": {
        "id": "Vpx7HCnXRKoM",
        "colab_type": "code",
        "colab": {}
      },
      "source": [
        "def save_checkpoint(optimizer, model, epoch, filename):\n",
        "    checkpoint_dict = {\n",
        "        'optimizer': optimizer.state_dict(),\n",
        "        'model': model.state_dict(),\n",
        "        'epoch': epoch\n",
        "    }\n",
        "    torch.save(checkpoint_dict, filename)\n",
        "\n",
        "\n",
        "def load_checkpoint(optimizer, model, filename):\n",
        "    checkpoint_dict = torch.load(filename)\n",
        "    epoch = checkpoint_dict['epoch']\n",
        "    model.load_state_dict(checkpoint_dict['model'])\n",
        "    if optimizer is not None:\n",
        "        optimizer.load_state_dict(checkpoint_dict['optimizer'])\n",
        "    return epoch"
      ],
      "execution_count": 0,
      "outputs": []
    },
    {
      "cell_type": "code",
      "metadata": {
        "id": "QYk-zSLJRqx9",
        "colab_type": "code",
        "colab": {}
      },
      "source": [
        "!mkdir -p checkpoints"
      ],
      "execution_count": 0,
      "outputs": []
    },
    {
      "cell_type": "code",
      "metadata": {
        "id": "9QAuxIQvoSDV",
        "colab_type": "code",
        "colab": {}
      },
      "source": [
        "def train(optimizer, model, num_epochs=10, first_epoch=1):\n",
        "    \n",
        "    criterion = nn.CrossEntropyLoss()\n",
        "\n",
        "    train_losses = []\n",
        "    valid_losses = []\n",
        "\n",
        "    for epoch in range(first_epoch, first_epoch + num_epochs):\n",
        "        print('Epoch', epoch)\n",
        "\n",
        "        # train phase\n",
        "        model.train()\n",
        "\n",
        "        # create a progress bar\n",
        "        progress = ProgressMonitor(length=len(train_set))\n",
        "\n",
        "        train_loss = MovingAverage()\n",
        "\n",
        "        for batch, targets in train_loader:\n",
        "            # Move the training data to the GPU\n",
        "            batch = batch.to(device)\n",
        "            targets = targets.to(device)\n",
        "\n",
        "            # clear previous gradient computation\n",
        "            optimizer.zero_grad()\n",
        "\n",
        "            # forward propagation\n",
        "            predictions = model(batch)\n",
        "\n",
        "            # calculate the loss\n",
        "            loss = criterion(predictions, targets)\n",
        "\n",
        "            # backpropagate to compute gradients\n",
        "            loss.backward()\n",
        "\n",
        "            # update model weights\n",
        "            optimizer.step()\n",
        "\n",
        "            # update average loss\n",
        "            train_loss.update(loss)\n",
        "\n",
        "            # update progress bar\n",
        "            progress.update(batch.shape[0], train_loss)\n",
        "\n",
        "        print('Training loss:', train_loss)\n",
        "        train_losses.append(train_loss.value)\n",
        "\n",
        "\n",
        "        # validation phase\n",
        "        model.eval()\n",
        "\n",
        "        valid_loss = RunningAverage()\n",
        "\n",
        "        # keep track of predictions\n",
        "        y_pred = []\n",
        "\n",
        "        # We don't need gradients for validation, so wrap in \n",
        "        # no_grad to save memory\n",
        "        with torch.no_grad():\n",
        "\n",
        "            for batch, targets in valid_loader:\n",
        "\n",
        "                # Move the training batch to the GPU\n",
        "                batch = batch.to(device)\n",
        "                targets = targets.to(device)\n",
        "\n",
        "                # forward propagation\n",
        "                predictions = model(batch)\n",
        "\n",
        "                # calculate the loss\n",
        "                loss = criterion(predictions, targets)\n",
        "\n",
        "                # update running loss value\n",
        "                valid_loss.update(loss)\n",
        "\n",
        "                # save predictions\n",
        "                y_pred.extend(predictions.argmax(dim=1).cpu().numpy())\n",
        "\n",
        "        print('Validation loss:', valid_loss)\n",
        "        valid_losses.append(valid_loss.value)\n",
        "\n",
        "        # Calculate validation accuracy\n",
        "        y_pred = torch.tensor(y_pred, dtype=torch.int64)\n",
        "        accuracy = torch.mean((y_pred == valid_set.test_labels).float())\n",
        "        print('Validation accuracy: {:.4f}%'.format(float(accuracy) * 100))\n",
        "\n",
        "        # Save a checkpoint\n",
        "        checkpoint_filename = 'checkpoints/mnist-{:03d}.pkl'.format(epoch)\n",
        "        save_checkpoint(optimizer, model, epoch, checkpoint_filename)\n",
        "    \n",
        "    return train_losses, valid_losses, y_pred"
      ],
      "execution_count": 0,
      "outputs": []
    },
    {
      "cell_type": "markdown",
      "metadata": {
        "id": "moI0IamaTuEO",
        "colab_type": "text"
      },
      "source": [
        "##Checkpointing\n",
        "\n",
        "The above code saves a **snapshot** of the model after each epoch.\n",
        "\n",
        "- It is a good idea to save checkpoints (snapshots) of your model after each epoch so that you can resume training if there is a hardware/software failure that interrupts training. \n",
        "- This is **especially important for larger problems** where training for a single epoch can take hours and the full optimization can take weeks.\n",
        "- Also allows you to implement **early stopping** easily: simply keep the snapshot corresponding to the model with minimum validation loss (or maximum validation accuracy).\n",
        "\n",
        "**NB**: it's usually a good idea to save both the model and the optimizer state!"
      ]
    },
    {
      "cell_type": "code",
      "metadata": {
        "id": "VDdFK6RDSZ1X",
        "colab_type": "code",
        "outputId": "08342c55-491c-408c-bb02-a9e7b23bb904",
        "colab": {
          "base_uri": "https://localhost:8080/",
          "height": 164
        }
      },
      "source": [
        "train_losses, valid_losses, y_pred = train(optimizer, model, num_epochs=10)"
      ],
      "execution_count": 0,
      "outputs": [
        {
          "output_type": "error",
          "ename": "NameError",
          "evalue": "ignored",
          "traceback": [
            "\u001b[0;31m---------------------------------------------------------------------------\u001b[0m",
            "\u001b[0;31mNameError\u001b[0m                                 Traceback (most recent call last)",
            "\u001b[0;32m<ipython-input-19-80bf7db94891>\u001b[0m in \u001b[0;36m<module>\u001b[0;34m()\u001b[0m\n\u001b[0;32m----> 1\u001b[0;31m \u001b[0mtrain_losses\u001b[0m\u001b[0;34m,\u001b[0m \u001b[0mvalid_losses\u001b[0m\u001b[0;34m,\u001b[0m \u001b[0my_pred\u001b[0m \u001b[0;34m=\u001b[0m \u001b[0mtrain\u001b[0m\u001b[0;34m(\u001b[0m\u001b[0moptimizer\u001b[0m\u001b[0;34m,\u001b[0m \u001b[0mmodel\u001b[0m\u001b[0;34m,\u001b[0m \u001b[0mnum_epochs\u001b[0m\u001b[0;34m=\u001b[0m\u001b[0;36m10\u001b[0m\u001b[0;34m)\u001b[0m\u001b[0;34m\u001b[0m\u001b[0;34m\u001b[0m\u001b[0m\n\u001b[0m",
            "\u001b[0;31mNameError\u001b[0m: name 'train' is not defined"
          ]
        }
      ]
    },
    {
      "cell_type": "markdown",
      "metadata": {
        "id": "Urau1xFIKtFY",
        "colab_type": "text"
      },
      "source": [
        "# Plot the learning curves\n",
        "\n",
        "Here we plot the learning curves after training. Note that you can also use [Tensorboard](https://www.tensorflow.org/guide/summaries_and_tensorboard) with PyTorch using the [tensorboardX](https://github.com/lanpa/tensorboardX) library. \n",
        "\n",
        "Tensorboard, part of the tensorflow framework, allows you to visualize the learning curves (and any other data you want to track) in real time as the model trains. Running tensorboard with Colab needs a [few tricks to get working](https://www.dlology.com/blog/quick-guide-to-run-tensorboard-in-google-colab/) though. \n"
      ]
    },
    {
      "cell_type": "code",
      "metadata": {
        "id": "dzwmuvqrzXpE",
        "colab_type": "code",
        "outputId": "0499a74a-3b57-4d27-c1ba-52d553c95111",
        "colab": {
          "base_uri": "https://localhost:8080/",
          "height": 198
        }
      },
      "source": [
        "def learning_curve(train_losses, valid_losses):\n",
        "    epochs = range(1, len(train_losses) + 1)\n",
        "\n",
        "    plt.figure(figsize=(10,6))\n",
        "    plt.plot(epochs, train_losses, '-o', label='Training loss')\n",
        "    plt.plot(epochs, valid_losses, '-o', label='Validation loss')\n",
        "    plt.legend()\n",
        "    plt.title('Learning curves')\n",
        "    plt.xlabel('Epoch')\n",
        "    plt.ylabel('Loss')\n",
        "    plt.xticks(epochs)\n",
        "    plt.show()\n",
        "    \n",
        "learning_curve(train_losses, valid_losses)"
      ],
      "execution_count": 0,
      "outputs": [
        {
          "output_type": "error",
          "ename": "NameError",
          "evalue": "ignored",
          "traceback": [
            "\u001b[0;31m---------------------------------------------------------------------------\u001b[0m",
            "\u001b[0;31mNameError\u001b[0m                                 Traceback (most recent call last)",
            "\u001b[0;32m<ipython-input-18-309ced854b76>\u001b[0m in \u001b[0;36m<module>\u001b[0;34m()\u001b[0m\n\u001b[1;32m     12\u001b[0m     \u001b[0mplt\u001b[0m\u001b[0;34m.\u001b[0m\u001b[0mshow\u001b[0m\u001b[0;34m(\u001b[0m\u001b[0;34m)\u001b[0m\u001b[0;34m\u001b[0m\u001b[0;34m\u001b[0m\u001b[0m\n\u001b[1;32m     13\u001b[0m \u001b[0;34m\u001b[0m\u001b[0m\n\u001b[0;32m---> 14\u001b[0;31m \u001b[0mlearning_curve\u001b[0m\u001b[0;34m(\u001b[0m\u001b[0mtrain_losses\u001b[0m\u001b[0;34m,\u001b[0m \u001b[0mvalid_losses\u001b[0m\u001b[0;34m)\u001b[0m\u001b[0;34m\u001b[0m\u001b[0;34m\u001b[0m\u001b[0m\n\u001b[0m",
            "\u001b[0;31mNameError\u001b[0m: name 'train_losses' is not defined"
          ]
        }
      ]
    },
    {
      "cell_type": "markdown",
      "metadata": {
        "id": "u1rSJSroPYaL",
        "colab_type": "text"
      },
      "source": [
        "# Error analysis"
      ]
    },
    {
      "cell_type": "code",
      "metadata": {
        "id": "87r7l8ewG6v-",
        "colab_type": "code",
        "outputId": "50b803c0-2512-4bfd-8918-39c76b87706b",
        "colab": {
          "base_uri": "https://localhost:8080/",
          "height": 89
        }
      },
      "source": [
        "num_errors = torch.sum((y_pred != valid_set.test_labels).float())\n",
        "print('Validation errors {} (out of {})'.format(int(num_errors), len(valid_set)))"
      ],
      "execution_count": 0,
      "outputs": [
        {
          "output_type": "stream",
          "text": [
            "Validation errors 260 (out of 10000)\n"
          ],
          "name": "stdout"
        },
        {
          "output_type": "stream",
          "text": [
            "/usr/local/lib/python3.6/dist-packages/torchvision/datasets/mnist.py:48: UserWarning: test_labels has been renamed targets\n",
            "  warnings.warn(\"test_labels has been renamed targets\")\n"
          ],
          "name": "stderr"
        }
      ]
    },
    {
      "cell_type": "code",
      "metadata": {
        "id": "Xx9w2Mh9Ldjx",
        "colab_type": "code",
        "outputId": "d3cbffab-1edc-45e0-f9ae-89c44f597e0e",
        "colab": {
          "base_uri": "https://localhost:8080/",
          "height": 107
        }
      },
      "source": [
        "# pull out examples of mistakes in the valid set\n",
        "error_indicator = y_pred != valid_set.test_labels\n",
        "error_examples = valid_set.test_data[error_indicator, :, :]"
      ],
      "execution_count": 0,
      "outputs": [
        {
          "output_type": "stream",
          "text": [
            "/usr/local/lib/python3.6/dist-packages/torchvision/datasets/mnist.py:48: UserWarning: test_labels has been renamed targets\n",
            "  warnings.warn(\"test_labels has been renamed targets\")\n",
            "/usr/local/lib/python3.6/dist-packages/torchvision/datasets/mnist.py:58: UserWarning: test_data has been renamed data\n",
            "  warnings.warn(\"test_data has been renamed data\")\n"
          ],
          "name": "stderr"
        }
      ]
    },
    {
      "cell_type": "code",
      "metadata": {
        "id": "QNkEJp62OEZC",
        "colab_type": "code",
        "outputId": "cf4663da-636f-41ab-d39d-875f9855e951",
        "colab": {
          "base_uri": "https://localhost:8080/",
          "height": 715
        }
      },
      "source": [
        "plt.figure(figsize=(10,10))\n",
        "\n",
        "sample = error_examples[:64]\n",
        "# shape (64, 28, 28)\n",
        "sample = sample.reshape(8,8,28,28)\n",
        "# shape (8, 8, 28, 28)\n",
        "sample = sample.permute(0,2,1,3)\n",
        "# shape (8, 28, 8, 28)\n",
        "sample = sample.reshape(8*28,8*28)\n",
        "# shape (8*28, 8*28)\n",
        "plt.imshow(sample)\n",
        "plt.xticks([])\n",
        "plt.yticks([])\n",
        "plt.grid(False)\n",
        "plt.title('Error analysis (validation set)')\n",
        "plt.show()\n",
        "\n",
        "print('y_true:', valid_set.test_labels[error_indicator][:64].numpy())\n",
        "print('y_pred:', y_pred[error_indicator][:64].numpy())"
      ],
      "execution_count": 0,
      "outputs": [
        {
          "output_type": "display_data",
          "data": {
            "image/png": "[encoded data removed]",
            "text/plain": [
              "<Figure size 720x720 with 1 Axes>"
            ]
          },
          "metadata": {
            "tags": []
          }
        },
        {
          "output_type": "stream",
          "text": [
            "y_true: [4 6 2 5 3 6 8 8 8 2 2 7 8 4 4 4 4 8 5 1 6 5 6 7 6 5 4 6 9 7 7 9 4 9 7 7 5\n",
            " 8 7 5 5 9 6 7 7 8 4 9 7 2 0 7 3 9 8 4 7 2 8 8 9 5 5 7]\n",
            "y_pred: [2 0 7 3 7 0 2 2 3 6 8 3 4 9 9 9 9 9 4 2 0 3 5 2 8 3 6 1 4 9 2 4 9 5 1 2 7\n",
            " 3 1 6 3 7 4 1 9 7 6 3 9 6 6 3 7 3 0 2 2 7 7 3 4 6 0 5]\n"
          ],
          "name": "stdout"
        },
        {
          "output_type": "stream",
          "text": [
            "/usr/local/lib/python3.6/dist-packages/torchvision/datasets/mnist.py:48: UserWarning: test_labels has been renamed targets\n",
            "  warnings.warn(\"test_labels has been renamed targets\")\n"
          ],
          "name": "stderr"
        }
      ]
    },
    {
      "cell_type": "markdown",
      "metadata": {
        "id": "L3k9cOWWS8en",
        "colab_type": "text"
      },
      "source": [
        "# Resuming training"
      ]
    },
    {
      "cell_type": "code",
      "metadata": {
        "id": "vqUkPWZnW9Vi",
        "colab_type": "code",
        "outputId": "25f4904e-87ee-4ee8-cf2a-a2bb66e0a242",
        "colab": {
          "base_uri": "https://localhost:8080/",
          "height": 52
        }
      },
      "source": [
        "ls checkpoints"
      ],
      "execution_count": 0,
      "outputs": [
        {
          "output_type": "stream",
          "text": [
            "mnist-001.pkl  mnist-003.pkl  mnist-005.pkl  mnist-007.pkl  mnist-009.pkl\n",
            "mnist-002.pkl  mnist-004.pkl  mnist-006.pkl  mnist-008.pkl  mnist-010.pkl\n"
          ],
          "name": "stdout"
        }
      ]
    },
    {
      "cell_type": "code",
      "metadata": {
        "id": "u9XfbK_wS-3v",
        "colab_type": "code",
        "outputId": "82ef2219-4f97-4224-e5cd-dd3e75c27cdf",
        "colab": {
          "base_uri": "https://localhost:8080/",
          "height": 437
        }
      },
      "source": [
        "epoch = load_checkpoint(optimizer, model, 'checkpoints/mnist-010.pkl')\n",
        "print('Resuming training from epoch', epoch)\n",
        "train_losses, valid_losses, y_pred = train(optimizer, model, num_epochs=3, first_epoch=epoch)\n"
      ],
      "execution_count": 0,
      "outputs": [
        {
          "output_type": "stream",
          "text": [
            "Resuming training from epoch 10\n",
            "Epoch 10\n"
          ],
          "name": "stdout"
        },
        {
          "output_type": "display_data",
          "data": {
            "text/html": [
              "\n",
              "        <p>Loss: 0.0596   60000 / 60000</p>\n",
              "        <progress value='60000' max='60000', style='width: 100%'>60000</progress>\n",
              "    "
            ],
            "text/plain": [
              "<IPython.core.display.HTML object>"
            ]
          },
          "metadata": {
            "tags": []
          }
        },
        {
          "output_type": "stream",
          "text": [
            "Training loss: 0.0596\n",
            "Validation loss: 0.0832\n",
            "Validation accuracy: 97.3300%\n",
            "Epoch 11\n"
          ],
          "name": "stdout"
        },
        {
          "output_type": "stream",
          "text": [
            "/usr/local/lib/python3.6/dist-packages/torchvision/datasets/mnist.py:48: UserWarning: test_labels has been renamed targets\n",
            "  warnings.warn(\"test_labels has been renamed targets\")\n"
          ],
          "name": "stderr"
        },
        {
          "output_type": "display_data",
          "data": {
            "text/html": [
              "\n",
              "        <p>Loss: 0.0610   60000 / 60000</p>\n",
              "        <progress value='60000' max='60000', style='width: 100%'>60000</progress>\n",
              "    "
            ],
            "text/plain": [
              "<IPython.core.display.HTML object>"
            ]
          },
          "metadata": {
            "tags": []
          }
        },
        {
          "output_type": "stream",
          "text": [
            "Training loss: 0.061\n",
            "Validation loss: 0.0781\n",
            "Validation accuracy: 97.6000%\n",
            "Epoch 12\n"
          ],
          "name": "stdout"
        },
        {
          "output_type": "display_data",
          "data": {
            "text/html": [
              "\n",
              "        <p>Loss: 0.0503   60000 / 60000</p>\n",
              "        <progress value='60000' max='60000', style='width: 100%'>60000</progress>\n",
              "    "
            ],
            "text/plain": [
              "<IPython.core.display.HTML object>"
            ]
          },
          "metadata": {
            "tags": []
          }
        },
        {
          "output_type": "stream",
          "text": [
            "Training loss: 0.0503\n",
            "Validation loss: 0.0774\n",
            "Validation accuracy: 97.6500%\n"
          ],
          "name": "stdout"
        }
      ]
    }
  ]
}